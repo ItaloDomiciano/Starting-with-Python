{
 "cells": [
  {
   "cell_type": "markdown",
   "id": "4cd1767d",
   "metadata": {},
   "source": [
    "# First steps in Python\n",
    "   Primeiros passos no Python\n",
    "\n"
   ]
  },
  {
   "cell_type": "markdown",
   "id": "42b7ef57",
   "metadata": {},
   "source": [
    "# Crie um programa que calcule a nota de um aluno e retorne se ele foi aprovado ou não:"
   ]
  },
  {
   "cell_type": "code",
   "execution_count": 1,
   "id": "365ed1a1",
   "metadata": {},
   "outputs": [
    {
     "name": "stdout",
     "output_type": "stream",
     "text": [
      "Digite a primeira nota : 5.5\n",
      "Digite a segunda nota: 6.5\n",
      "Sua Media foi 6.0\n",
      "Você não foi aprovado !\n"
     ]
    }
   ],
   "source": [
    "n1 = float(input(\"Digite a primeira nota : \"))\n",
    "n2 = float(input(\"Digite a segunda nota: \"))\n",
    "m = (n1+n2)/2\n",
    "print(\"Sua Media foi\", m) \n",
    "if m == 5 :\n",
    "  print(\"Parabens você foi aprovado !\")\n",
    "else:\n",
    "  print(\"Você não foi aprovado !\")   "
   ]
  },
  {
   "cell_type": "markdown",
   "id": "98d12e53",
   "metadata": {},
   "source": [
    "# Tabuada Primeira Versão"
   ]
  },
  {
   "cell_type": "code",
   "execution_count": 2,
   "id": "155fbd66",
   "metadata": {},
   "outputs": [
    {
     "name": "stdout",
     "output_type": "stream",
     "text": [
      "Digite o numero para criar sua Tabuada.5\n",
      "(5, 10, 15, 20, 25, 30, 35, 40, 45, 50)\n"
     ]
    }
   ],
   "source": [
    "n = int(input(\"Digite o numero para criar sua Tabuada.\"))\n",
    "m = (n*1,n*2, n*3, n*4, n*5, n*6, n*7, n*8, n*9, n*10 )\n",
    "print(m)"
   ]
  },
  {
   "cell_type": "markdown",
   "id": "d1b25940",
   "metadata": {},
   "source": [
    "# Tabuada Segunda Versão"
   ]
  },
  {
   "cell_type": "code",
   "execution_count": 12,
   "id": "b7a824a3",
   "metadata": {},
   "outputs": [
    {
     "name": "stdout",
     "output_type": "stream",
     "text": [
      "Digite o numero para a tabuada5\n",
      "1X 5 = 5\n",
      "1X 10 = 10\n",
      "1X 15 = 15\n",
      "1X 20 = 20\n",
      "1X 25 = 25\n",
      "1X 30 = 30\n",
      "1X 35 = 35\n",
      "1X 40 = 40\n",
      "1X 45 = 45\n",
      "1X 50 = 50\n"
     ]
    }
   ],
   "source": [
    "n = int(input(\"Digite o numero para a tabuada\"))\n",
    "n1 = (n*1)\n",
    "n2 = (n*2)\n",
    "n3 = (n*3)\n",
    "n4 = (n*4)\n",
    "n5 = (n*5)\n",
    "n6 = (n*6)\n",
    "n7 = (n*7)\n",
    "n8 = (n*8)\n",
    "n9 = (n*9)\n",
    "n10 = (n*10)\n",
    "print(\"1X\",n1,\"= {}\".format(n1))\n",
    "print(\"1X\",n2,\"= {}\".format(n2))\n",
    "print(\"1X\",n3,\"= {}\".format(n3))\n",
    "print(\"1X\",n4,\"= {}\".format(n4))\n",
    "print(\"1X\",n5,\"= {}\".format(n5))\n",
    "print(\"1X\",n6,\"= {}\".format(n6))\n",
    "print(\"1X\",n7,\"= {}\".format(n7))\n",
    "print(\"1X\",n8,\"= {}\".format(n8))\n",
    "print(\"1X\",n9,\"= {}\".format(n9))\n",
    "print(\"1X\",n10,\"= {}\".format(n10))\n",
    "\n"
   ]
  },
  {
   "cell_type": "markdown",
   "id": "dc63f718",
   "metadata": {},
   "source": [
    "#  Tabuada Terceira Versão"
   ]
  },
  {
   "cell_type": "code",
   "execution_count": 5,
   "id": "ab07f36d",
   "metadata": {},
   "outputs": [
    {
     "name": "stdout",
     "output_type": "stream",
     "text": [
      "Digite um numero para ver sua tabuada: 5\n",
      "5 x 1 = 5 \n",
      " 5 x 2 = 10 \n",
      " 5 x 3 = 15 \n",
      " 5 x 4 = 20 \n",
      " 5 x 5 = 25 \n",
      " 5 x 6 = 30 \n",
      " 5 x 7 = 35 \n",
      " 5 x 8 = 40 \n",
      " 5 x 9 = 45 \n",
      " 5 x 10 = 50\n"
     ]
    }
   ],
   "source": [
    "n = int(input(\"Digite um numero para ver sua tabuada: \"))\n",
    "print('{} x 1 = {} \\n {} x 2 = {} \\n {} x 3 = {} \\n {} x 4 = {} \\n {} x 5 = {} \\n {} x 6 = {} \\n {} x 7 = {} \\n {} x 8 = {} \\n {} x 9 = {} \\n {} x 10 = {}'\n",
    ".format(n,(n*1),n,(n*2),n,(n*3),n,(n*4),n,(n*5),n,(n*6),n,(n*7),n,(n*8),n,(n*9),n,(n*10)))"
   ]
  },
  {
   "cell_type": "markdown",
   "id": "8cad98e2",
   "metadata": {},
   "source": [
    "# Tabuada Quarta Versão"
   ]
  },
  {
   "cell_type": "code",
   "execution_count": 4,
   "id": "20489572",
   "metadata": {},
   "outputs": [
    {
     "name": "stdout",
     "output_type": "stream",
     "text": [
      "Digite o numero para a tabuada: 5\n",
      "5 X 1 = 5\n",
      "5 X 2 = 10\n",
      "5 X 3 = 15\n",
      "5 X 4 = 20\n",
      "5 X 5 = 25\n",
      "5 X 6 = 30\n",
      "5 X 7 = 35\n",
      "5 X 8 = 40\n",
      "5 X 9 = 45\n",
      "5 X 10 = 50\n"
     ]
    }
   ],
   "source": [
    "#Tabuada Volume - 4\n",
    "numero = int(input(\"Digite o numero para a tabuada: \"))\n",
    "\n",
    "for i in range (1,11):\n",
    "  print(numero,'X', i, '=',(numero * i))"
   ]
  },
  {
   "cell_type": "markdown",
   "id": "7b56d594",
   "metadata": {},
   "source": [
    "# Crie um algoritmo que leia quanto dinheiro uma pessoa tem na carteira e quantos dolares ela pode comprar cotação 02/06/22 - 1 USD = 4,78 BRL "
   ]
  },
  {
   "cell_type": "code",
   "execution_count": 102,
   "id": "65557c84",
   "metadata": {},
   "outputs": [
    {
     "name": "stdout",
     "output_type": "stream",
     "text": [
      "Quanto dinheiro você tem na carteira? 5000\n",
      "Você tem 1046.03 dolares!\n",
      "Voce tem 1046.0251046025105 dolares!\n"
     ]
    }
   ],
   "source": [
    "n=(float(input(\"Quanto dinheiro você tem na carteira? \")))\n",
    "m = n/4.78\n",
    "print(\"Você tem {:.2f} dolares!\".format(m))\n",
    "\n",
    "def dolar(dinheiro):\n",
    "    dinheiro= dinheiro/4.78\n",
    "    print(f\"Voce tem {dinheiro} dolares!\")\n",
    "    \n",
    "dolar(5000)\n",
    "\n",
    "#Resolvi fazer um modo em função para ver se facilitava,mais o resultado saiu com mais de 2 casas."
   ]
  },
  {
   "cell_type": "markdown",
   "id": "2becbc61",
   "metadata": {},
   "source": [
    "# FAÇA UM POGRAMA QUE CONVERTA METROS PARA CENTIMETROS."
   ]
  },
  {
   "cell_type": "code",
   "execution_count": 158,
   "id": "58414b0b",
   "metadata": {},
   "outputs": [
    {
     "name": "stdout",
     "output_type": "stream",
     "text": [
      "\t-----Conversor M para CM-----\n",
      "Informe o valor em metros: 500\n",
      "O valor em centimetro é 50000.0!\n"
     ]
    }
   ],
   "source": [
    "print(\"\\t-----Conversor M para CM-----\")\n",
    "#Estava usando INT antes do INPUT mais achei melhor mudar para FLOAT para melhor desempenho.\n",
    "m = float(input(\"Informe o valor em metros: \"))\n",
    "c = m*100\n",
    "print(\"O valor em centimetro é {}!\".format(c))\n"
   ]
  },
  {
   "cell_type": "markdown",
   "id": "50093c03",
   "metadata": {},
   "source": [
    "# FAÇA UM PROGRAMA PARA UM REAJUSTE SALARIAL "
   ]
  },
  {
   "cell_type": "code",
   "execution_count": 159,
   "id": "235878fa",
   "metadata": {
    "scrolled": false
   },
   "outputs": [
    {
     "name": "stdout",
     "output_type": "stream",
     "text": [
      "----Reajuste Sálarial-----\n",
      "Digite seu sálario atual: 5008\n",
      "Seu salario é maior que R$ 1000.00 e será reajustado em 5% \n",
      "Seu salario atual é 5258.400000000001\n"
     ]
    }
   ],
   "source": [
    "'''Tenho que arrumar as casas decimais do resultado.\n",
    "Mesmo caso do exemplo anterior, quando se trabalha com numeros,para mim a melhor opção é float, \n",
    "ainda mais se tratanto de dinheiro.'''\n",
    "\n",
    "print(\"----Reajuste Sálarial-----\")\n",
    "n = float(input(\"Digite seu sálario atual: \"))\n",
    "if n < 500:\n",
    "  print(\"Seu salario é menor que R$ 500.00 e será reajustado em 15% \")\n",
    "  print(\"Seu salario atual é\",n*1.15)\n",
    "elif (n >= 500)and (n <=1000):\n",
    "  print(\"Seu salario é maior que R$ 500.00 e menor que R$1000.00 será reajustado em 10% \")\n",
    "  print(\"Seu salario atual é\", n*1.10)\n",
    "elif n > 1000:\n",
    "  print(\"Seu salario é maior que R$ 1000.00 e será reajustado em 5% \")\n",
    "  print(\"Seu salario atual é\",n*1.05)    "
   ]
  },
  {
   "cell_type": "code",
   "execution_count": 160,
   "id": "c0c95de0",
   "metadata": {},
   "outputs": [
    {
     "name": "stdout",
     "output_type": "stream",
     "text": [
      "Digite o seu sálario atual: 5800\n",
      "Seu salario é maior que R$ 1000.00 e será reajustado em 5% \n",
      "Seu salario atual é 6090.0\n"
     ]
    }
   ],
   "source": [
    "'''Uma versão usando função.'''\n",
    "def reajuste_salario():\n",
    "    salario = float(input(\"Digite o seu sálario atual: \"))\n",
    "    if salario < 500:\n",
    "        print(\"Seu salario é menor que R$ 500.00 e será reajustado em 15% \")\n",
    "        print(\"Seu salario atual é\",salario*1.15)\n",
    "    elif (n >= 500)and (salario <=1000):\n",
    "        print(\"Seu salario é maior que R$ 500.00 e menor que R$1000.00 será reajustado em 10% \")\n",
    "        print(\"Seu salario atual é\", salario*1.10)\n",
    "    elif n > 1000:\n",
    "        print(\"Seu salario é maior que R$ 1000.00 e será reajustado em 5% \")\n",
    "        print(\"Seu salario atual é\",salario*1.05)  \n",
    "        \n",
    "reajuste_salario()"
   ]
  },
  {
   "cell_type": "markdown",
   "id": "df356df6",
   "metadata": {},
   "source": [
    "# Informe se um numero é positivo,negativo ou neutro."
   ]
  },
  {
   "cell_type": "code",
   "execution_count": 35,
   "id": "1d07883f",
   "metadata": {},
   "outputs": [
    {
     "name": "stdout",
     "output_type": "stream",
     "text": [
      "Digite um numero: 5\n",
      "Esse numero é positivo!\n"
     ]
    }
   ],
   "source": [
    "\n",
    "x = int(input(\"Digite um numero: \"))\n",
    "if x < 0 :\n",
    "  print(\"Esse numero é negativo!\")\n",
    "elif x == 0:\n",
    "  print(\"Esse numero é neutro!\")\n",
    "elif x > 0:\n",
    "  print(\"Esse numero é positivo!\")    "
   ]
  },
  {
   "cell_type": "markdown",
   "id": "e0ed3948",
   "metadata": {},
   "source": [
    "# Contador"
   ]
  },
  {
   "cell_type": "code",
   "execution_count": 14,
   "id": "8d1e56e0",
   "metadata": {},
   "outputs": [
    {
     "name": "stdout",
     "output_type": "stream",
     "text": [
      "Digite um numero: 4500\n",
      "total de digitos =  1\n",
      "total de digitos =  2\n",
      "total de digitos =  3\n",
      "total de digitos =  4\n"
     ]
    }
   ],
   "source": [
    "'''Ele ta meio estranho ainda não está como eu gostaria...'''\n",
    "\n",
    "x = int(input(\"Digite um numero: \"))\n",
    "n = 0\n",
    "while x != 0:\n",
    "  x //= 10\n",
    "  n += 1\n",
    "  print(\"total de digitos = \", n) \n",
    "  \n"
   ]
  },
  {
   "cell_type": "markdown",
   "id": "934405b8",
   "metadata": {},
   "source": [
    "# Algumas simulações com a biblioteca random."
   ]
  },
  {
   "cell_type": "code",
   "execution_count": 75,
   "id": "aa4e41fc",
   "metadata": {},
   "outputs": [
    {
     "name": "stdout",
     "output_type": "stream",
     "text": [
      "A Cidade Escolhida é : Belo Horizonte\n",
      "A Cidade Escolhida é : Belo Horizonte\n"
     ]
    }
   ],
   "source": [
    "import random\n",
    "city = [\"Barretos\" ,\"Colina\" ,\"São Joaquim\" ,\"Miguelopolis\",\"Guaira\"]\n",
    "\n",
    "city2 = [\"São Paulo\",\"Rio de Janeiro\",\"Belo Horizonte\",\"Maceió\",\"Tocantins\"]\n",
    "\n",
    "for i in city2:\n",
    "    city.append(i)\n",
    "\n",
    "city.append(\"Ipuã\")\n",
    "\n",
    "\n",
    "\n",
    "sort = random.choice(city)\n",
    "\n",
    "print(\"A Cidade Escolhida é : {}\".format(sort))     #Exibição com .format\n",
    "print(\"A Cidade Escolhida é :\",sort)                #Exibição com STR\n"
   ]
  },
  {
   "cell_type": "code",
   "execution_count": 161,
   "id": "e8d3373a",
   "metadata": {},
   "outputs": [
    {
     "name": "stdout",
     "output_type": "stream",
     "text": [
      "A cidade Sorteada foi: Belo Horizonte\n"
     ]
    }
   ],
   "source": [
    "#Versão com função\n",
    "'''Aqui foi criado duas listas, onde uma foi integrada na outra, e depois um elemento a mais foi adicionado com o comando \n",
    ".append usando o comando random.choice para poder definir a cidade aleatoriamente.'''\n",
    "\n",
    "import random\n",
    "def cidades():\n",
    "    city = [\"Barretos\" ,\"Colina\" ,\"São Joaquim\" ,\"Miguelopolis\",\"Guaira\"]\n",
    "    city2 = [\"São Paulo\",\"Rio de Janeiro\",\"Belo Horizonte\",\"Maceió\",\"Tocantins\"]\n",
    "    for i in city2:\n",
    "        city.append(i)\n",
    "        city.append(\"Ipuã\")\n",
    "        \n",
    "aleatorio = random.choice(city)\n",
    "print(f\"A cidade Sorteada foi: {aleatorio}\")\n",
    "\n",
    "\n",
    "    "
   ]
  },
  {
   "cell_type": "markdown",
   "id": "44e6c0bd",
   "metadata": {},
   "source": [
    "# Criar uma nova lista com todos os elementos sendo float"
   ]
  },
  {
   "cell_type": "code",
   "execution_count": 162,
   "id": "4d9d2cf1",
   "metadata": {},
   "outputs": [
    {
     "name": "stdout",
     "output_type": "stream",
     "text": [
      "[2.0]\n",
      "[2.0, 4.0]\n",
      "[2.0, 4.0, 10.0]\n",
      "[2.0, 4.0, 10.0, 6.0]\n"
     ]
    }
   ],
   "source": [
    "x = [2,4,10,6]\n",
    "y = []\n",
    "for i in x:\n",
    "  y.append(float(i))\n",
    "  print(y)"
   ]
  },
  {
   "cell_type": "markdown",
   "id": "c86133be",
   "metadata": {},
   "source": [
    "# Dicionarios\n",
    "Iniciando os trabalhos com dicionarios."
   ]
  },
  {
   "cell_type": "code",
   "execution_count": 168,
   "id": "7e6d9c48",
   "metadata": {},
   "outputs": [
    {
     "name": "stdout",
     "output_type": "stream",
     "text": [
      "{'Frota': '61069', 'Peso': 27800, 'Tara': 11100, 'Hora': '11:30'}\n"
     ]
    }
   ],
   "source": [
    "'''Apesar de serem poucas linhas ajudam a ter uma noção de como funciona um dicionario'''\n",
    "\n",
    "x = {\"Frota\":'61069',\"Peso\":27800,'Tara':11100}\n",
    "x['Hora']='11:30' #Adição de um novo indice\n",
    "print(x)"
   ]
  },
  {
   "cell_type": "markdown",
   "id": "8ae672b3",
   "metadata": {},
   "source": [
    "# DATAFRAME\n",
    "Inicio a Dataframe com o Pandas"
   ]
  },
  {
   "cell_type": "code",
   "execution_count": 2,
   "id": "e47e08c9",
   "metadata": {},
   "outputs": [
    {
     "data": {
      "text/html": [
       "<div>\n",
       "<style scoped>\n",
       "    .dataframe tbody tr th:only-of-type {\n",
       "        vertical-align: middle;\n",
       "    }\n",
       "\n",
       "    .dataframe tbody tr th {\n",
       "        vertical-align: top;\n",
       "    }\n",
       "\n",
       "    .dataframe thead th {\n",
       "        text-align: right;\n",
       "    }\n",
       "</style>\n",
       "<table border=\"1\" class=\"dataframe\">\n",
       "  <thead>\n",
       "    <tr style=\"text-align: right;\">\n",
       "      <th></th>\n",
       "      <th>Nome</th>\n",
       "      <th>Location</th>\n",
       "      <th>Age</th>\n",
       "    </tr>\n",
       "  </thead>\n",
       "  <tbody>\n",
       "    <tr>\n",
       "      <th>0</th>\n",
       "      <td>John</td>\n",
       "      <td>New York</td>\n",
       "      <td>25</td>\n",
       "    </tr>\n",
       "    <tr>\n",
       "      <th>1</th>\n",
       "      <td>Anna</td>\n",
       "      <td>London</td>\n",
       "      <td>33</td>\n",
       "    </tr>\n",
       "    <tr>\n",
       "      <th>2</th>\n",
       "      <td>Peter</td>\n",
       "      <td>Paris</td>\n",
       "      <td>26</td>\n",
       "    </tr>\n",
       "    <tr>\n",
       "      <th>3</th>\n",
       "      <td>Linda</td>\n",
       "      <td>Berlin</td>\n",
       "      <td>29</td>\n",
       "    </tr>\n",
       "  </tbody>\n",
       "</table>\n",
       "</div>"
      ],
      "text/plain": [
       "    Nome  Location  Age\n",
       "0   John  New York   25\n",
       "1   Anna    London   33\n",
       "2  Peter     Paris   26\n",
       "3  Linda    Berlin   29"
      ]
     },
     "metadata": {},
     "output_type": "display_data"
    }
   ],
   "source": [
    "import pandas as pd\n",
    "\n",
    "data = {'Nome': ['John','Anna','Peter','Linda'],\n",
    "        'Location':['New York','London','Paris','Berlin'],\n",
    "        'Age':[25,33,26,29]}\n",
    "             \n",
    "x = pd.DataFrame(data)\n",
    "\n",
    "display(x)        "
   ]
  },
  {
   "cell_type": "markdown",
   "id": "78a8c493",
   "metadata": {},
   "source": [
    "# Trabalhando com STRING"
   ]
  },
  {
   "cell_type": "code",
   "execution_count": 30,
   "id": "32e83faf",
   "metadata": {},
   "outputs": [
    {
     "name": "stdout",
     "output_type": "stream",
     "text": [
      "5\n"
     ]
    }
   ],
   "source": [
    "x= 'Estou gostando muito de Python'\n",
    "z= len(x) #Retorna a quantidade de caracteres.\n",
    "c= x.replace('gostando','adorando') #Substituiu \"gostando\" por \"adorando\"\n",
    "v= x.count('o') #Conta a quantidade de letras \"o\" na string x\n",
    "\n",
    "print(v)"
   ]
  },
  {
   "cell_type": "markdown",
   "id": "ad096fd9",
   "metadata": {},
   "source": [
    "# Funções\n",
    "Criação de Funções"
   ]
  },
  {
   "cell_type": "code",
   "execution_count": 31,
   "id": "c7ca4bc6",
   "metadata": {},
   "outputs": [],
   "source": [
    "def somaNum():\n",
    "  soma=float(input(\"Digite um numero: \"))\n",
    "  soma1=float(input(\"Digite outro numero: \"))\n",
    "  soma3 = soma + soma1\n",
    "  print(\"O resultado é {}\".format(soma3))\n",
    "  if soma3 > 10:\n",
    "    print(\"Então está bão\")\n",
    "  else:\n",
    "    print(\"Então não esta bão\")  \n",
    "      "
   ]
  },
  {
   "cell_type": "code",
   "execution_count": 50,
   "id": "be247484",
   "metadata": {},
   "outputs": [
    {
     "name": "stdout",
     "output_type": "stream",
     "text": [
      "Nossa nunca imaginei que seria menor que 10!\n"
     ]
    }
   ],
   "source": [
    "#Versão simplificada.\n",
    "\n",
    "def soma_numero(x,y):\n",
    "    conta = x+y \n",
    "    if conta > 10:\n",
    "        print(\"Então é maior que 10\")\n",
    "    else:\n",
    "        print(\"Nossa nunca imaginei que seria menor que 10!\")\n",
    " \n",
    "soma_numero(5,3)"
   ]
  },
  {
   "cell_type": "markdown",
   "id": "66f6f0fe",
   "metadata": {},
   "source": [
    "# Função Lambda"
   ]
  },
  {
   "cell_type": "code",
   "execution_count": 62,
   "id": "9588584d",
   "metadata": {},
   "outputs": [
    {
     "data": {
      "text/plain": [
       "181"
      ]
     },
     "execution_count": 62,
     "metadata": {},
     "output_type": "execute_result"
    }
   ],
   "source": [
    "somaquadrado = lambda a,b: a**2 + b**2\n",
    "somaquadrado(10,9)"
   ]
  },
  {
   "cell_type": "markdown",
   "id": "f2081cf1",
   "metadata": {},
   "source": [
    "# Função MAP()"
   ]
  },
  {
   "cell_type": "code",
   "execution_count": 73,
   "id": "71d3fdb3",
   "metadata": {},
   "outputs": [
    {
     "ename": "IndentationError",
     "evalue": "unexpected indent (Temp/ipykernel_748/3134628609.py, line 3)",
     "output_type": "error",
     "traceback": [
      "\u001b[1;36m  File \u001b[1;32m\"C:\\Users\\italo\\AppData\\Local\\Temp/ipykernel_748/3134628609.py\"\u001b[1;36m, line \u001b[1;32m3\u001b[0m\n\u001b[1;33m    for i in kmh:\u001b[0m\n\u001b[1;37m    ^\u001b[0m\n\u001b[1;31mIndentationError\u001b[0m\u001b[1;31m:\u001b[0m unexpected indent\n"
     ]
    }
   ],
   "source": [
    "kmh = [15,20,36,45,58,60,79,90,120]\n",
    "mph = []\n",
    "    for i in kmh:\n",
    "    mph.append(i/1.61)\n",
    "         print(mph)\n",
    "\n",
    "mph2 = list(map(lambda x: x/1.61,kmh))\n",
    "print(mph2)"
   ]
  },
  {
   "cell_type": "code",
   "execution_count": 80,
   "id": "46f9b686",
   "metadata": {},
   "outputs": [
    {
     "name": "stdout",
     "output_type": "stream",
     "text": [
      "[9.316770186335404]\n",
      "[9.316770186335404, 12.422360248447204]\n",
      "[9.316770186335404, 12.422360248447204, 22.360248447204967]\n",
      "[9.316770186335404, 12.422360248447204, 22.360248447204967, 27.95031055900621]\n",
      "[9.316770186335404, 12.422360248447204, 22.360248447204967, 27.95031055900621, 36.024844720496894]\n",
      "[9.316770186335404, 12.422360248447204, 22.360248447204967, 27.95031055900621, 36.024844720496894, 37.267080745341616]\n",
      "[9.316770186335404, 12.422360248447204, 22.360248447204967, 27.95031055900621, 36.024844720496894, 37.267080745341616, 49.06832298136646]\n",
      "[9.316770186335404, 12.422360248447204, 22.360248447204967, 27.95031055900621, 36.024844720496894, 37.267080745341616, 49.06832298136646, 55.90062111801242]\n",
      "[9.316770186335404, 12.422360248447204, 22.360248447204967, 27.95031055900621, 36.024844720496894, 37.267080745341616, 49.06832298136646, 55.90062111801242, 74.53416149068323]\n",
      "[9.316770186335404, 12.422360248447204, 22.360248447204967, 27.95031055900621, 36.024844720496894, 37.267080745341616, 49.06832298136646, 55.90062111801242, 74.53416149068323]\n",
      "[9.316770186335404, 12.422360248447204, 22.360248447204967, 27.95031055900621, 36.024844720496894, 37.267080745341616, 49.06832298136646, 55.90062111801242, 74.53416149068323]\n"
     ]
    }
   ],
   "source": [
    "#Versão 1\n",
    "kmh = [15,20,36,45,58,60,79,90,120]\n",
    "mph = []\n",
    "for i in kmh:\n",
    "    mph.append(i/1.61)\n",
    "    print(mph)\n",
    "    \n",
    "#Versão 2 - LAMBDA\n",
    "mph2 = list(map(lambda x: x/1.61,kmh))\n",
    "print(mph2)\n",
    "\n",
    "#Versão 3\n",
    "mph3 = [x/1.61 for x in kmh]\n",
    "print(mph3)"
   ]
  },
  {
   "cell_type": "markdown",
   "id": "ad069fea",
   "metadata": {},
   "source": [
    "# Começando com o Numpy\n"
   ]
  },
  {
   "cell_type": "code",
   "execution_count": 102,
   "id": "3e970a5c",
   "metadata": {},
   "outputs": [
    {
     "name": "stdout",
     "output_type": "stream",
     "text": [
      "[[1 5 9]\n",
      " [2 5 8]\n",
      " [3 5 7]]\n"
     ]
    }
   ],
   "source": [
    "import numpy as np\n",
    "a = np.array([(1,5,9),(2,5,8),(3,5,7)]) #Forma uma matriz\n",
    "print(a)"
   ]
  },
  {
   "cell_type": "code",
   "execution_count": 101,
   "id": "664e4ac1",
   "metadata": {},
   "outputs": [
    {
     "name": "stdout",
     "output_type": "stream",
     "text": [
      "[[1. 1. 1.]\n",
      " [1. 1. 1.]\n",
      " [1. 1. 1.]\n",
      " [1. 1. 1.]\n",
      " [1. 1. 1.]\n",
      " [1. 1. 1.]\n",
      " [1. 1. 1.]\n",
      " [1. 1. 1.]\n",
      " [1. 1. 1.]\n",
      " [1. 1. 1.]]\n"
     ]
    }
   ],
   "source": [
    "'''eye cria matriz com 0 e 1 sendo o 1 na diagonal principal , \"matriz identidade\" ,ones cria arrey e matrizes,\n",
    " ###primeiro digito é sempre linha e o segundo coluna### '''\n",
    "b = np.eye(10)\n",
    "c = np.ones((10,3))\n",
    "v = np.ones(5)\n",
    "print(c)                   "
   ]
  },
  {
   "cell_type": "code",
   "execution_count": 107,
   "id": "fe863a6a",
   "metadata": {},
   "outputs": [
    {
     "data": {
      "text/plain": [
       "1"
      ]
     },
     "execution_count": 107,
     "metadata": {},
     "output_type": "execute_result"
    }
   ],
   "source": [
    "'''Apos definir uma função numpy pode se usar ela para saber a media,max,min.\n",
    "   nesse caso a foi definido como uma função do numpy e pode ser usado.  '''\n",
    "a.max() \n",
    "a.mean()\n",
    "a.min()"
   ]
  },
  {
   "cell_type": "code",
   "execution_count": null,
   "id": "1a8a5a52",
   "metadata": {},
   "outputs": [],
   "source": []
  }
 ],
 "metadata": {
  "kernelspec": {
   "display_name": "Python 3 (ipykernel)",
   "language": "python",
   "name": "python3"
  },
  "language_info": {
   "codemirror_mode": {
    "name": "ipython",
    "version": 3
   },
   "file_extension": ".py",
   "mimetype": "text/x-python",
   "name": "python",
   "nbconvert_exporter": "python",
   "pygments_lexer": "ipython3",
   "version": "3.9.7"
  },
  "varInspector": {
   "cols": {
    "lenName": 16,
    "lenType": 16,
    "lenVar": 40
   },
   "kernels_config": {
    "python": {
     "delete_cmd_postfix": "",
     "delete_cmd_prefix": "del ",
     "library": "var_list.py",
     "varRefreshCmd": "print(var_dic_list())"
    },
    "r": {
     "delete_cmd_postfix": ") ",
     "delete_cmd_prefix": "rm(",
     "library": "var_list.r",
     "varRefreshCmd": "cat(var_dic_list()) "
    }
   },
   "types_to_exclude": [
    "module",
    "function",
    "builtin_function_or_method",
    "instance",
    "_Feature"
   ],
   "window_display": false
  }
 },
 "nbformat": 4,
 "nbformat_minor": 5
}
